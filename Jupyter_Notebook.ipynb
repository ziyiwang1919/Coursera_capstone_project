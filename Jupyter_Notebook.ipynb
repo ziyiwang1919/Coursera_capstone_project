{
 "cells": [
  {
   "cell_type": "markdown",
   "metadata": {},
   "source": [
    "<center>\n",
    "    <img src=\"https://cf-courses-data.s3.us.cloud-object-storage.appdomain.cloud/IBMDeveloperSkillsNetwork-DS0105EN-SkillsNetwork/labs/Module2/images/SN_web_lightmode.png\" width=\"300\" alt=\"cognitiveclass.ai logo\">\n",
    "</center>\n"
   ]
  },
  {
   "cell_type": "markdown",
   "metadata": {},
   "source": [
    "#### Add your code below following the instructions given in the course\n"
   ]
  },
  {
   "cell_type": "markdown",
   "metadata": {},
   "source": [
    "# Data Science Overview Notebook\n",
    "\n",
    "## Introduction\n",
    "Welcome to the Data Science Overview Notebook. In this notebook, we will explore various aspects of Data Science including popular languages, libraries, tools, and some basic operations in Python.\n",
    "\n",
    "## Data Science Languages\n",
    "- Python\n",
    "- R\n",
    "- SQL\n",
    "- Julia\n",
    "- Scala\n",
    "\n",
    "## Data Science Libraries\n",
    "### Python Libraries\n",
    "- Pandas\n",
    "- NumPy\n",
    "- SciPy\n",
    "- Matplotlib\n",
    "- Seaborn\n",
    "- Scikit-learn\n",
    "- TensorFlow\n",
    "- PyTorch\n",
    "\n",
    "### R Libraries\n",
    "- ggplot2\n",
    "- dplyr\n",
    "- caret\n",
    "- shiny\n",
    "- tidyr\n",
    "\n",
    "## Data Science Tools\n",
    "\n",
    "| Tool            | Category          | Description                                  |\n",
    "|-----------------|-------------------|----------------------------------------------|\n",
    "| Jupyter Notebook| Development       | Interactive computing and data visualization |\n",
    "| GitHub          | Version Control   | Code hosting platform for version control    |\n",
    "| Tableau         | Visualization     | Business intelligence and analytics software |\n",
    "| SQL databases   | Data Storage      | Structured data storage and retrieval        |\n",
    "| Apache Spark    | Big Data Processing| Large-scale data processing engine           |\n",
    "\n",
    "\n",
    "## Arithmetic Expression Examples\n",
    "In the following sections, we'll explore basic arithmetic expressions including addition, subtraction, multiplication, and division.\n",
    "\n",
    "# Multiplying and adding numbers\n",
    "result = (3 * 4) + (2 * 5)\n",
    "print(\"The result is:\", result)\n",
    "\n",
    "# Converting minutes to hours\n",
    "minutes = 120\n",
    "hours = minutes / 60\n",
    "print(f\"{minutes} minutes is equal to {hours} hours.\")\n",
    "\n",
    "## Objectives\n",
    "- Understand basic data science concepts\n",
    "- Get familiar with data science languages and libraries\n",
    "- Learn to use Jupyter Notebook for executing Python code\n",
    "- Practice basic arithmetic operations in Python\n",
    "\n",
    "## Author\n",
    "- Ziyi Wang\n"
   ]
  }
 ],
 "metadata": {
  "kernelspec": {
   "display_name": "Python",
   "language": "python",
   "name": "conda-env-python-py"
  },
  "language_info": {
   "codemirror_mode": {
    "name": "ipython",
    "version": 3
   },
   "file_extension": ".py",
   "mimetype": "text/x-python",
   "name": "python",
   "nbconvert_exporter": "python",
   "pygments_lexer": "ipython3",
   "version": "3.7.12"
  }
 },
 "nbformat": 4,
 "nbformat_minor": 4
}
